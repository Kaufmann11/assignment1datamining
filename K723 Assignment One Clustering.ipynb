{
 "cells": [
  {
   "cell_type": "markdown",
   "id": "cae8c8ed",
   "metadata": {},
   "source": [
    "# K723: Data Mining<br>\n",
    "## Assignment ONE: Clustering \n",
    "**Released: Wednesday, October 1, 2025**<br>\n",
    "**Due on: Monday, October 19, 2025 Before midnight.**"
   ]
  },
  {
   "cell_type": "markdown",
   "id": "dc58773a",
   "metadata": {},
   "source": [
    "**Please enter your name and student number here:**\n",
    "<div class=\"alert alert-block alert-info\"> \n",
    "    <b>Student Info:</b><BR>\n",
    "    <ul>\n",
    "        <li>Student Name: --------</li>\n",
    "        <li>Student Number: --------</li>\n",
    "        <li>MAC ID: --------</li>\n",
    "    </ul>\n",
    "</div>"
   ]
  },
  {
   "cell_type": "markdown",
   "id": "e7167963",
   "metadata": {},
   "source": [
    "**Please follow the following instructions for completing the assignment:**<br>\n",
    "- **Questions will appear in red alert blocks.**\n",
    "<div class=\"alert alert-block alert-danger\"> <b>Question number:</b> The body of the question.</div>\n",
    "\n",
    "    - **For some questions, you only need to modify and run the code.** \n",
    "    - **For other questions, you will need to write short report inside green alert blocks.**\n",
    "<div class=\"alert alert-block alert-success\"> <b>A title: (Optional)</b> Your answer. You can make part of your answer <b>bold</b>, <i>italic</i>, or <u>underlined</u> </div>\n",
    "\n",
    "- **I will use yellow alert blocks to add helpful comments**\n",
    "<div class=\"alert alert-block alert-warning\"> <b>Comment title: </b>Comment itself\n",
    "</div>"
   ]
  },
  {
   "cell_type": "markdown",
   "id": "d4ca50e5",
   "metadata": {},
   "source": [
    "- **You will use the following packages for this assignment:**\n",
    "    - *`numpy`* for mathematical calculations, \n",
    "    - *`pandas`* for data handling, \n",
    "    - *`scikit-learn`* and *`scipy`* for cluster analysis\n",
    "       - *`scipy`* to demonstrate hierarchical clustering \n",
    "       - *`scikit-learn`* for non-hierarchical clustering\n",
    "       <br>Both packages provide methods for both types of clustering\n",
    "    - *`matplotlib`* for visualization.<br>\n",
    "- **Alongside this notebook you will receive a dataset labeled *`east_west_airlines.csv`*. Please:**\n",
    "    - Save the dataset and notebook in your *`Working Directory`*\n",
    "    - Complete the following codes, run them, and use the outcomes to answer questions.\n",
    "        - Replace ------- with required codes (find them from the notebooks we used in the class and posted on the avenue)\n"
   ]
  },
  {
   "cell_type": "markdown",
   "id": "5a076a5e",
   "metadata": {},
   "source": [
    "### Dataset Description:\n",
    "\n",
    "<div class=\"alert alert-block alert-warning\"> <b>The file east_west_airlines.csv contains information on passengers who belong to an airline’s frequent flier program. For each passenger the data include information on their mileage history and on different ways they accrued or spent miles in the last year. The goal is to try to identify clusters of passengers that have similar characteristics for the purpose of targeting different segments for different types of mileage offers.</b>\n",
    "    <ol>\n",
    "        <li>Unique ID</li>\n",
    "        <li>Number of miles eligible for award travel</li>\n",
    "        <li>Number of miles earned with freq. flyer credit card in the past 12 months</li>\n",
    "        <li>Number of miles earned with Rewards credit card in the past 12 months</li>\n",
    "        <li>Number of miles earned with Small Business credit card in the past 12 months</li>\n",
    "        <li>Number of miles earned from non-flight bonus transactions in the past 12 months</li>\n",
    "        <li>Number of non-flight bonus transactions in the past 12 months</li>\n",
    "        <li>Number of days since enrolled in flier program</li>\n",
    "        <li>Whether that person had award flight (free flight) or not</li>\n",
    "    </ol>\n",
    "</div>"
   ]
  },
  {
   "cell_type": "code",
   "execution_count": null,
   "id": "4ed6d1df",
   "metadata": {},
   "outputs": [],
   "source": [
    "from pathlib import Path\n",
    "\n",
    "import pandas as pd\n",
    "import numpy as np\n",
    "from sklearn import preprocessing\n",
    "from sklearn.metrics import pairwise\n",
    "from scipy.cluster.hierarchy import dendrogram, linkage, fcluster\n",
    "from sklearn.cluster import KMeans\n",
    "import matplotlib.pylab as plt\n",
    "import seaborn as sns\n",
    "from pandas.plotting import parallel_coordinates\n",
    "\n",
    "%matplotlib inline"
   ]
  },
  {
   "cell_type": "markdown",
   "id": "61d2b5cb",
   "metadata": {},
   "source": [
    "-----\n",
    "-----\n",
    "### Question 01: Exploring the data and feature scaling (20%)\n",
    "\n",
    "-----\n",
    "<div class=\"alert alert-block alert-danger\"> <b>01-01) Please Read data from CSVfile and answer/ the following questions (2%):</b> \n",
    "    <ul>\n",
    "        <li>How many passengers does the dataset have?</li>\n",
    "        <li>How many features are describing each passenger?</li>\n",
    "        <li>Legal: 5.905 </li>\n",
    "        <li>Show <b>the exact</b> first THREE and last THREE observations: </li>\n",
    "    </ul>\n",
    "</div>\n"
   ]
  },
  {
   "cell_type": "code",
   "execution_count": null,
   "id": "5168e4b7",
   "metadata": {},
   "outputs": [],
   "source": [
    "name_your_datafram_df = pd.read_csv(-------)\n",
    "print(\"Size of the dataset (row, col): \", name_your_datafram_df.-------)\n",
    "print(\"\\nFirst few obserations\\n\", name_your_datafram_df.-------)\n",
    "print(\"\\nLast few obserations\\n\", name_your_datafram_df.-------)"
   ]
  },
  {
   "cell_type": "markdown",
   "id": "f160b7eb",
   "metadata": {},
   "source": [
    "<div class=\"alert alert-block alert-success\"> <b>Data set size</b> There are ------- records, with ------- features describing each one.</div>\n"
   ]
  },
  {
   "cell_type": "markdown",
   "id": "18e8cd6b",
   "metadata": {},
   "source": [
    "----\n",
    "<div class=\"alert alert-block alert-danger\"> <b>01-01) Run summary statistics and answer the following questions (3%):</b> \n",
    "    <ul>\n",
    "        <li>What is the range of each four numerical variables?</li>\n",
    "        <li>Which two variables have the highest correlation?</li>\n",
    "    </ul>\n",
    "</div>\n"
   ]
  },
  {
   "cell_type": "code",
   "execution_count": null,
   "id": "48a565f4",
   "metadata": {},
   "outputs": [],
   "source": [
    "print(\"\\nSummary statistics:\\n\", name_your_datafram_df.-------)\n",
    "print(\"\\nCorrelation matrix\\n\", name_your_datafram_df.-------)"
   ]
  },
  {
   "cell_type": "markdown",
   "id": "9d16514d",
   "metadata": {},
   "source": [
    "<div class=\"alert alert-block alert-success\"> \n",
    "    <b>Range</b> <br>\n",
    "    <ul>\n",
    "        <li>Variable 01: ------- </li>\n",
    "        <li>Variable 01: ------- </li>\n",
    "        <li>Variable 01: ------- </li>\n",
    "        <li>Variable 01: ------- </li>\n",
    "    </ul>\n",
    "     <br>\n",
    "    <b>Correlation:</b> The highest correlation is -------, observed between ------- and -------.\n",
    "</div>"
   ]
  },
  {
   "cell_type": "markdown",
   "id": "c8a12f75",
   "metadata": {},
   "source": [
    "----\n",
    "<div class=\"alert alert-block alert-danger\"> <b>01-02) Create box plots for all numerical variables (5%): </b><i>(you need to complete and run the first two lines for all variables)</i> \n",
    "    <ul>\n",
    "        <li>Are there any outliers in your dataframe? Which feature(s)</li>\n",
    "    </ul>\n",
    "</div>\n"
   ]
  },
  {
   "cell_type": "code",
   "execution_count": null,
   "id": "dc21e9ee",
   "metadata": {},
   "outputs": [],
   "source": [
    "plt.figure(-------)\n",
    "name_your_datafram_df[-------].plot(kind = -------, title = -------)\n",
    "\n",
    "plt.figure(-------)\n",
    "name_your_datafram_df[-------].plot(kind = -------, title = -------)\n",
    "\n",
    "\n",
    "plt.show()"
   ]
  },
  {
   "cell_type": "markdown",
   "id": "798e11c0",
   "metadata": {},
   "source": [
    "<div class=\"alert alert-block alert-success\"> \n",
    "    <b>Outliers:</b> <br>\n",
    "    There are potential outliers in feature(s): ------- and -------.\n",
    "</div>"
   ]
  },
  {
   "cell_type": "markdown",
   "id": "55a794be",
   "metadata": {},
   "source": [
    "----\n",
    "<div class=\"alert alert-block alert-danger\"> <b>01-03) Create scatter plots for all pairs of numerical variables (5%): </b><i>(you need to complete and run the first two lines for all pairs of numerical variables)</i> \n",
    "    <ul>\n",
    "        <li>What patterns can you see in scatter plots? <br><i>Compare the plots with the correlation matrix from the question 01-02</i></li>\n",
    "    </ul>\n",
    "</div>\n"
   ]
  },
  {
   "cell_type": "code",
   "execution_count": null,
   "id": "d50df876",
   "metadata": {},
   "outputs": [],
   "source": [
    "plt.figure(-------)\n",
    "name_your_datafram_df.plot(kind = -------, x= -------, y= -------, title = -------, alpha = 0.5)\n",
    "\n",
    "plt.figure(-------)\n",
    "name_your_datafram_df.plot(kind = -------, x= -------, y= -------, title = -------, alpha = 0.5)\n",
    "\n",
    "\n",
    "plt.show()"
   ]
  },
  {
   "cell_type": "markdown",
   "id": "95e68e73",
   "metadata": {},
   "source": [
    "<div class=\"alert alert-block alert-success\"> <b>Patterns based on scatter plots: </b>\n",
    "    <BR> \n",
    "    ---------- ADD YOUR ANSWER HERE -------\n",
    "</div>"
   ]
  },
  {
   "cell_type": "markdown",
   "id": "a428c019",
   "metadata": {},
   "source": [
    "----\n",
    "<div class=\"alert alert-block alert-danger\"> <b>01-05) Apply feature scaling and explain its importance(5%): </b>\n",
    "    <ul>\n",
    "        <li>Apply feature Scaling (2%)</li>\n",
    "        <li>Why is feature scaling critical before calculating distances between observations and clusters? (2%)</li>\n",
    "        <li>How can you reverse the feature scaling and retrieve actual values? (1%)</li>\n",
    "    </ul>\n",
    "</div>"
   ]
  },
  {
   "cell_type": "code",
   "execution_count": null,
   "id": "e65fb663",
   "metadata": {},
   "outputs": [],
   "source": [
    "name_your_datafram_df2=name_your_datafram_df[[-----, -----, -----, -----, -----]]\n",
    "name_your_datafram_df2.set_index(------, inplace=True)\n",
    "name_your_datafram_df2 = name_your_datafram_df2.apply(lambda x: x.astype('float64'))\n",
    "\n",
    "# pandas uses sample standard deviation\n",
    "name_your_datafram_df_Norm = (name_your_datafram_df2 - name_your_datafram_df2.-------)/name_your_datafram_df2.-------"
   ]
  },
  {
   "cell_type": "markdown",
   "id": "ce8da7f9",
   "metadata": {},
   "source": [
    "<div class=\"alert alert-block alert-success\"> <b>Feature Scaling: </b>\n",
    "    <BR> \n",
    "    ---------- ADD YOUR ANSWER HERE (The importance of feature scaling) -------\n",
    "    <BR> \n",
    "    <BR> \n",
    "    ---------- ADD YOUR ANSWER HERE (How to reverse feature scaling to calculate actual values) -------\n",
    "</div>"
   ]
  },
  {
   "cell_type": "markdown",
   "id": "cca7d76c",
   "metadata": {},
   "source": [
    "-------\n",
    "-------\n",
    "### Question 02: Hierarchical Clustering  (25%)\n",
    "----\n",
    "<div class=\"alert alert-block alert-danger\"> <b>02-01) Compute normalized distances based on continous variables (5%): </b>\n",
    "</div>\n"
   ]
  },
  {
   "cell_type": "code",
   "execution_count": null,
   "id": "587217d3",
   "metadata": {},
   "outputs": [],
   "source": [
    "# compute normalized distance based on Sales and Fuel Cost\n",
    "distanceNorm = pairwise.pairwise_distances(name_your_datafram_df_Norm[[-------]], \n",
    "                                     metric='euclidean')"
   ]
  },
  {
   "cell_type": "markdown",
   "id": "b60b7e9d",
   "metadata": {},
   "source": [
    "<div class=\"alert alert-block alert-danger\"> <b>02-02) Compare hierarchical clustering (10%)</b>\n",
    "    <ul>\n",
    "        <li>Use at least three different distance measurement methods (Ward, Centroid, Average). Compare Dendrograms and explain why different methods create different results.</li>\n",
    "    </ul>\n",
    "</div>\n",
    "\n",
    "\n"
   ]
  },
  {
   "cell_type": "code",
   "execution_count": null,
   "id": "58c839f6",
   "metadata": {},
   "outputs": [],
   "source": [
    "Z = linkage(name_your_datafram_df_Norm, method=-------)\n",
    "\n",
    "fig = plt.figure(figsize=(18, 12), dpi=200)\n",
    "fig.subplots_adjust(bottom=0.21)\n",
    "plt.title('Hierarchical Clustering Dendrogram (-------)')\n",
    "plt.xlabel(--------)\n",
    "dendrogram(Z, labels=name_your_datafram_df_Norm.index, color_threshold=-------)\n",
    "plt.axhline(y=-------, color='black', linewidth=1.5, linestyle='dashed')\n",
    "plt.show()"
   ]
  },
  {
   "cell_type": "markdown",
   "id": "142da627",
   "metadata": {},
   "source": [
    "<div class=\"alert alert-block alert-warning\"> \n",
    "    <b>Comparison: </b> Redo the previous block of code in the following Cell(s) for at least one other measurement method and compare the results.<br>\n",
    "    <b>dpi (dot per inch): </b> a higher value of dpi allows you to have a high-quality image that you can download or open in a new tab. \n",
    "</div>"
   ]
  },
  {
   "cell_type": "code",
   "execution_count": null,
   "id": "4f0b8c6f",
   "metadata": {},
   "outputs": [],
   "source": [
    "#Use for second distance method#"
   ]
  },
  {
   "cell_type": "code",
   "execution_count": null,
   "id": "4766ea4e",
   "metadata": {},
   "outputs": [],
   "source": [
    "#Use for second distance method#"
   ]
  },
  {
   "cell_type": "markdown",
   "id": "0ced02ed",
   "metadata": {},
   "source": [
    "<div class=\"alert alert-block alert-success\"> <b>Difference between Single Linkage and at least another distance measurement method: </b>\n",
    "    <BR> \n",
    "    ---------- ADD YOUR ANSWER HERE -------\n",
    "</div>\n",
    "\n"
   ]
  },
  {
   "cell_type": "code",
   "execution_count": null,
   "id": "74ee75d0",
   "metadata": {},
   "outputs": [],
   "source": [
    "memb = fcluster(linkage(name_your_datafram_df_Norm, -------), -------, criterion='maxclust')\n",
    "memb = pd.Series(memb, index=name_your_datafram_df_Norm.index)\n",
    "for key, item in memb.groupby(memb):\n",
    "    print(key, ': ', ', '.join(item.index))"
   ]
  },
  {
   "cell_type": "markdown",
   "id": "fe6c3603",
   "metadata": {},
   "source": [
    "<div class=\"alert alert-block alert-danger\"> <b>02-03) Assign a meaningful label to each cluster based on its characteristics (10%)</b>\n",
    "    <ul>\n",
    "        <li>Select a distance measurement method (ward preferably). Use cluster summary (count, mean, min, max) (5%) to give each cluster a meaningful label (5%). </li>\n",
    "    </ul>\n",
    "</div>"
   ]
  },
  {
   "cell_type": "code",
   "execution_count": null,
   "id": "8558da11",
   "metadata": {},
   "outputs": [],
   "source": [
    "name_your_datafram_df['clusterH']=list(memb)\n",
    "clusterSummaryH = name_your_datafram_df.groupby(['clusterH']).agg({-------\n",
    "                                                      })\n",
    "clusterSummaryH"
   ]
  },
  {
   "cell_type": "markdown",
   "id": "618cd8d1",
   "metadata": {},
   "source": [
    "<div class=\"alert alert-block alert-success\"> \n",
    "    <b>Cluster Labeling</b> <br>\n",
    "    <ul>\n",
    "        <li>Cluster 01 Name: <i>--- Reason why you selected this label ---</i></li>\n",
    "        <li>Cluster 02 Name: <i>--- Reason why you selected this label ---</i></li>\n",
    "        <li>Cluster 0X Name: <i>--- Reason why you selected this label ---</i></li>\n",
    "        <li>Cluster 0Y Name: <i>--- Reason why you selected this label ---</i></li>\n",
    "    </ul>\n",
    "</div>\n",
    "\n",
    "**Add cluster labels to the dataframe using the following block of code:**"
   ]
  },
  {
   "cell_type": "code",
   "execution_count": null,
   "id": "0fb2ab67",
   "metadata": {},
   "outputs": [],
   "source": [
    "name_your_datafram_df['clusterHLabel']=\"\"\n",
    "name_your_datafram_df['clusterHLabel'] = np.where(name_your_datafram_df['clusterH'] ==1 , -------,name_your_datafram_df['clusterHLabel'])\n",
    "name_your_datafram_df['clusterHLabel'] = np.where(name_your_datafram_df['clusterH'] ==2 , -------,name_your_datafram_df['clusterHLabel'])\n",
    "name_your_datafram_df['clusterHLabel'] = np.where(name_your_datafram_df['clusterH'] ==3 , -------,name_your_datafram_df['clusterHLabel'])"
   ]
  },
  {
   "cell_type": "markdown",
   "id": "7d1219c0",
   "metadata": {},
   "source": [
    "------\n",
    "------\n",
    "### Question 03: K-Means Clustering (20%)\n",
    "----\n",
    "<div class=\"alert alert-block alert-danger\"> <b>03-01) Perform k-means clustering. Use your judgement (based on previous section) for the number of clusters (5%)</b>\n",
    "</div>\n"
   ]
  },
  {
   "cell_type": "code",
   "execution_count": null,
   "id": "a36ee132",
   "metadata": {},
   "outputs": [],
   "source": [
    "# pandas uses sample standard deviation\n",
    "name_your_datafram_df_KNorm = (name_your_datafram_df2 - name_your_datafram_df2.-------)/name_your_datafram_df2.-------\n",
    "\n",
    "kmeans = KMeans(n_clusters=-------, random_state=0).fit(name_your_datafram_df_KNorm)\n",
    "\n",
    "# Cluster membership\n",
    "memb = pd.Series(kmeans.labels_, index=name_your_datafram_df_KNorm.index)\n",
    "for key, item in memb.groupby(memb):\n",
    "    print(key, ': ', ', '.join(item.index))"
   ]
  },
  {
   "cell_type": "code",
   "execution_count": null,
   "id": "ec488fbb",
   "metadata": {},
   "outputs": [],
   "source": [
    "withinClusterSS = [0] * -------\n",
    "clusterCount = [0] * -------\n",
    "for cluster, distance in zip(kmeans.labels_, kmeans.transform(name_your_datafram_df_KNorm)):\n",
    "    withinClusterSS[cluster] += distance[cluster]**2\n",
    "    clusterCount[cluster] += 1\n",
    "for cluster, withClustSS in enumerate(withinClusterSS):\n",
    "    print('Cluster {} ({} members): {:5.2f} within cluster'.format(cluster, \n",
    "        clusterCount[cluster], withinClusterSS[cluster]))"
   ]
  },
  {
   "cell_type": "markdown",
   "id": "6e72e6bc",
   "metadata": {},
   "source": [
    "----\n",
    "<div class=\"alert alert-block alert-danger\"> <b>03-02) Use the parallel coordinate plot and the cluster summary to characterize and label the clusters. (10%)</b>\n",
    "</div>"
   ]
  },
  {
   "cell_type": "code",
   "execution_count": null,
   "id": "3d19b9b3",
   "metadata": {},
   "outputs": [],
   "source": [
    "centroids = pd.DataFrame(kmeans.cluster_centers_, columns=name_your_datafram_df_KNorm.columns)\n",
    "pd.options.display.max_rows = 7\n",
    "#in older versions you may use this command: pd.set_option('precision', 3)\n",
    "print(centroids)"
   ]
  },
  {
   "cell_type": "code",
   "execution_count": null,
   "id": "a873c71d",
   "metadata": {},
   "outputs": [],
   "source": [
    "centroids['cluster'] = ['Cluster {}'.format(i) for i in centroids.index]\n",
    "\n",
    "plt.figure(figsize=(10,6))\n",
    "fig.subplots_adjust(right=3)\n",
    "ax = parallel_coordinates(centroids, class_column='cluster', colormap='Dark2', linewidth=5)\n",
    "plt.legend(loc='center left', bbox_to_anchor=(0.95, 0.5))\n",
    "plt.xlim(-0.5,3.5)\n",
    "centroids"
   ]
  },
  {
   "cell_type": "code",
   "execution_count": null,
   "id": "6bf221ae",
   "metadata": {},
   "outputs": [],
   "source": [
    "name_your_datafram_df_KNorm.groupby(kmeans.labels_).mean()"
   ]
  },
  {
   "cell_type": "code",
   "execution_count": null,
   "id": "8374def8",
   "metadata": {},
   "outputs": [],
   "source": [
    "print(pd.DataFrame(pairwise.pairwise_distances(kmeans.cluster_centers_, metric='euclidean')))"
   ]
  },
  {
   "cell_type": "code",
   "execution_count": null,
   "id": "fed16979",
   "metadata": {},
   "outputs": [],
   "source": [
    "pd.DataFrame(pairwise.pairwise_distances(kmeans.cluster_centers_, metric='euclidean')).sum(axis=0)"
   ]
  },
  {
   "cell_type": "code",
   "execution_count": null,
   "id": "2ea7d070",
   "metadata": {},
   "outputs": [],
   "source": [
    "name_your_datafram_df['clusterK']=list(memb)\n",
    "clusterSummaryK = name_your_datafram_df.groupby(['clusterK']).agg({-------\n",
    "                                                      })\n",
    "clusterSummaryK"
   ]
  },
  {
   "cell_type": "markdown",
   "id": "6997bcab",
   "metadata": {},
   "source": [
    "<div class=\"alert alert-block alert-success\"> \n",
    "    <b>Cluster Labeling</b> <br>\n",
    "    <ul>\n",
    "        <li>Cluster 01 Name: <i>--- Reason why you selected this label ---</i></li>\n",
    "        <li>Cluster 02 Name: <i>--- Reason why you selected this label ---</i></li>\n",
    "        <li>Cluster 0X Name: <i>--- Reason why you selected this label ---</i></li>\n",
    "        <li>Cluster 0Y Name: <i>--- Reason why you selected this label ---</i></li>\n",
    "    </ul>\n",
    "</div>\n",
    "\n",
    "**Add cluster labels to the dataframe using the following block of code:**"
   ]
  },
  {
   "cell_type": "code",
   "execution_count": null,
   "id": "4e2e034d",
   "metadata": {},
   "outputs": [],
   "source": [
    "name_your_datafram_df['clusterKLabel']=\"\"\n",
    "name_your_datafram_df['clusterKLabel'] = np.where(name_your_datafram_df['clusterK'] ==0 , -------,name_your_datafram_df['clusterKLabel'])\n",
    "name_your_datafram_df['clusterKLabel'] = np.where(name_your_datafram_df['clusterK'] ==1 , -------,name_your_datafram_df['clusterKLabel'])\n",
    "name_your_datafram_df['clusterKLabel'] = np.where(name_your_datafram_df['clusterK'] ==2 , -------,name_your_datafram_df['clusterKLabel'])"
   ]
  },
  {
   "cell_type": "markdown",
   "id": "9094dfd4",
   "metadata": {},
   "source": [
    "<div class=\"alert alert-block alert-warning\"> <b>Centroids vs. Cluster summary:</b><br>\n",
    "    Centroids are computed based on normalized distance, and you can calculate cluster summaries by reversing the normalization process. You should multiply centroids by the standard deviation of each feature and add the feature's mean to the multiplication.\n",
    "</div>"
   ]
  },
  {
   "cell_type": "code",
   "execution_count": null,
   "id": "844f22ae",
   "metadata": {},
   "outputs": [],
   "source": [
    "print((centroids*name_your_datafram_df2.std())+name_your_datafram_df2.mean())"
   ]
  },
  {
   "cell_type": "markdown",
   "id": "f11a5bb7",
   "metadata": {},
   "source": [
    "----\n",
    "<div class=\"alert alert-block alert-danger\"> <b>03-03) What is the elbow chart? Develop an elbow chart and cheque if the number of clusters you selected is optimum. (5%).</b>\n",
    "</div>"
   ]
  },
  {
   "cell_type": "code",
   "execution_count": null,
   "id": "7f674698",
   "metadata": {},
   "outputs": [],
   "source": [
    "inertia = []\n",
    "for n_clusters in range(1, 7):\n",
    "    kmeans = KMeans(n_clusters=n_clusters, random_state=0).fit(name_your_datafram_df_KNorm)\n",
    "    inertia.append(kmeans.inertia_ / n_clusters)\n",
    "inertias = pd.DataFrame({'n_clusters': range(1, 7), 'inertia': inertia})\n",
    "ax = inertias.plot(x='n_clusters', y='inertia')\n",
    "plt.xlabel('Number of clusters(k)')\n",
    "plt.ylabel('Average Within-Cluster Squared Distances')\n",
    "plt.ylim((0, 1.1 * inertias.inertia.max()))\n",
    "ax.legend().set_visible(False)\n",
    "plt.show()\n"
   ]
  },
  {
   "cell_type": "markdown",
   "id": "73a41843",
   "metadata": {},
   "source": [
    "<div class=\"alert alert-block alert-success\"> <b>Optimum number of clusters</b> <br>\n",
    "    ----------- <i> EXPLAIN WHAT ELBOW CHART IS </i> ----------------<br> and\n",
    "<br>\n",
    "    ----------- <i> ARGUE IF THE NUMBER OF CLUSTERS THEY USED IS AN OPTIMUM ONE </i> ----------------<br>\n",
    "</div>"
   ]
  },
  {
   "cell_type": "markdown",
   "id": "bebbe89f",
   "metadata": {},
   "source": [
    "-----\n",
    "-----\n",
    "### Question 04: Hierarchical vs. K-Means (15%)\n",
    "----\n",
    "<div class=\"alert alert-block alert-danger\"> <b>How do you compare these results with the results from hierarchical clustering? Are they similar or different?(15%)</b>\n",
    "</div>"
   ]
  },
  {
   "cell_type": "code",
   "execution_count": null,
   "id": "dd79f29f",
   "metadata": {},
   "outputs": [],
   "source": [
    "clusterSummaryHK = name_your_datafram_df.groupby(['clusterKLabel','clusterHLabel']).agg({-------\n",
    "                                                                              })\n",
    "pd.set_option('display.max_rows', 10)\n",
    "clusterSummaryHK.head(6)"
   ]
  },
  {
   "cell_type": "markdown",
   "id": "79f6246d",
   "metadata": {},
   "source": [
    "<div class=\"alert alert-block alert-success\"> <b>Similarities between heirarchical and K-Means clustering</b> <br>\n",
    "    ----------- <i> REPORT THE OVERLAP BETWEEN K-MEANS AND HEIRARCHICAL CLUSTERING MODELS</i> ----------------<br>\n",
    "</div>"
   ]
  },
  {
   "cell_type": "markdown",
   "id": "fa1c934b",
   "metadata": {},
   "source": [
    "-----\n",
    "-----\n",
    "### Question 05: Your Recommendations (20%)\n",
    "----\n",
    "<div class=\"alert alert-block alert-danger\"> <b>As an airline frequent-flyer program manager, decide which clusters to target for incentive offers, explain why you chose this segment (10%).</b>\n",
    "</div>"
   ]
  },
  {
   "cell_type": "markdown",
   "id": "1ccf78f4",
   "metadata": {},
   "source": [
    "----\n",
    "\n",
    "*WRITE YOUR ANSWER HERE*\n",
    "\n",
    "----"
   ]
  },
  {
   "cell_type": "markdown",
   "id": "1a68c319",
   "metadata": {},
   "source": [
    "----\n",
    "<div class=\"alert alert-block alert-danger\"> <b>Propose types of offers for customers in the selected cluster(s) and explain why (10%).</b>\n",
    "</div>"
   ]
  },
  {
   "cell_type": "markdown",
   "id": "ba98e348",
   "metadata": {},
   "source": [
    "----\n",
    "\n",
    "*WRITE YOUR ANSWER HERE*\n",
    "\n",
    "----"
   ]
  },
  {
   "cell_type": "markdown",
   "id": "9670bfa8",
   "metadata": {},
   "source": [
    "-----\n",
    "-----\n",
    "### Question 06: Your Feedback (5%)\n",
    "----\n",
    "<div class=\"alert alert-block alert-danger\"> <b>Feedback:(5%)</b>\n",
    "    <ul>\n",
    "        <li>How much time did you spend on this assignment? (1%)</li>\n",
    "        <li>What prolems did you face? (2%)</li>\n",
    "        <li>What did you learn? (2%)</li>\n",
    "    </ul>    \n",
    "</div>"
   ]
  },
  {
   "cell_type": "markdown",
   "id": "c0260c13",
   "metadata": {},
   "source": [
    "----\n",
    "\n",
    "*WRITE YOUR ANSWER HERE*\n",
    "\n",
    "----"
   ]
  }
 ],
 "metadata": {
  "kernelspec": {
   "display_name": "Python 3 (ipykernel)",
   "language": "python",
   "name": "python3"
  },
  "language_info": {
   "codemirror_mode": {
    "name": "ipython",
    "version": 3
   },
   "file_extension": ".py",
   "mimetype": "text/x-python",
   "name": "python",
   "nbconvert_exporter": "python",
   "pygments_lexer": "ipython3",
   "version": "3.11.3"
  }
 },
 "nbformat": 4,
 "nbformat_minor": 5
}
